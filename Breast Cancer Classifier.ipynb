{
 "cells": [
  {
   "cell_type": "code",
   "execution_count": 1,
   "metadata": {},
   "outputs": [],
   "source": [
    "# import libraries"
   ]
  },
  {
   "attachments": {},
   "cell_type": "markdown",
   "metadata": {},
   "source": [
    "### Part 1: \n",
    "\n",
    "###  Apply Weka’s Genetic Search in version 3.8 to find the best subset of attributes after 100 generations in the breast-cancer data!"
   ]
  },
  {
   "cell_type": "markdown",
   "metadata": {},
   "source": [
    "<img src=\"img/weka2.png\">\n",
    "<img src=\"img/weka3.png\">\n",
    "<img src=\"img/weka4.png\">\n",
    "<img src=\"img/weka5.png\">"
   ]
  },
  {
   "attachments": {},
   "cell_type": "markdown",
   "metadata": {},
   "source": [
    "### Report fitness for chromosomes in the 100th generation and Weka’s list of the best tumor characteristics for classification.!"
   ]
  },
  {
   "cell_type": "markdown",
   "metadata": {},
   "source": [
    "<img src=\"img/weka6.png\">\n",
    "<img src=\"img/weka7.png\">\n"
   ]
  },
  {
   "attachments": {},
   "cell_type": "markdown",
   "metadata": {},
   "source": [
    "### Report the accuracy of classification and confusion matrix when these tumor characteristics are used to classify the breast-cancer data."
   ]
  },
  {
   "cell_type": "markdown",
   "metadata": {},
   "source": [
    "### Full Data Set -- No Selected Attributes \n",
    "\n",
    "\n",
    "<img src=\"img/weka12.png\">\n",
    "<img src=\"img/weka13.png\">\n",
    "<img src=\"img/weka14.png\">\n",
    "<img src=\"img/weka15.png\">\n"
   ]
  },
  {
   "cell_type": "markdown",
   "metadata": {},
   "source": [
    "### Reduced Data Set -- Selected Attributes \n",
    "\n",
    "<img src=\"img/weka8.png\">\n",
    "<img src=\"img/weka9.png\">\n",
    "<img src=\"img/weka10.png\">\n",
    "<img src=\"img/weka11.png\">"
   ]
  },
  {
   "attachments": {},
   "cell_type": "markdown",
   "metadata": {},
   "source": [
    "### Part 2: \n",
    "\n",
    "###  Apply Weka’s InfoGain in version 3.8 to the rank leukemia gene expression dataset from HW1 by information gained. !"
   ]
  },
  {
   "cell_type": "markdown",
   "metadata": {},
   "source": [
    "<img src=\"img/weka20.png\">\n",
    "<img src=\"img/weka21.png\">\n",
    "<img src=\"img/weka22.png\">"
   ]
  },
  {
   "cell_type": "markdown",
   "metadata": {},
   "source": [
    "### Compare the accuracy using the top 5 genes to the accuracy using all the genes.  Report the confusion matrix (ALL positive class) using the top 5 genes and compare to confusion matrix when all genes are  used for Naïve Bayes classification."
   ]
  },
  {
   "cell_type": "markdown",
   "metadata": {},
   "source": [
    "### ALL GENES ARE USED FOR NAIVE BAYES CLASSIFICATION\n",
    "\n",
    "<img src=\"img/weka16.png\">\n",
    "<img src=\"img/weka17.png\">\n",
    "<img src=\"img/weka18.png\">"
   ]
  },
  {
   "cell_type": "markdown",
   "metadata": {},
   "source": [
    "### USING ONLY TOP 5 GENES\n",
    "\n",
    "<img src=\"img/weka30.png\">\n",
    "<img src=\"img/weka31.png\">\n",
    "<img src=\"img/weka32.png\">"
   ]
  },
  {
   "cell_type": "code",
   "execution_count": 2,
   "metadata": {},
   "outputs": [],
   "source": [
    "from scipy.io import arff\n",
    "import pandas as pd"
   ]
  },
  {
   "cell_type": "code",
   "execution_count": 18,
   "metadata": {},
   "outputs": [
    {
     "data": {
      "text/html": [
       "<div>\n",
       "<style scoped>\n",
       "    .dataframe tbody tr th:only-of-type {\n",
       "        vertical-align: middle;\n",
       "    }\n",
       "\n",
       "    .dataframe tbody tr th {\n",
       "        vertical-align: top;\n",
       "    }\n",
       "\n",
       "    .dataframe thead th {\n",
       "        text-align: right;\n",
       "    }\n",
       "</style>\n",
       "<table border=\"1\" class=\"dataframe\">\n",
       "  <thead>\n",
       "    <tr style=\"text-align: right;\">\n",
       "      <th></th>\n",
       "      <th>clump.thickness</th>\n",
       "      <th>uniformity.of.cell.size</th>\n",
       "      <th>uniformity.of.cell.shape</th>\n",
       "      <th>marginal.adhesion</th>\n",
       "      <th>single.epithelial.cell.size</th>\n",
       "      <th>bare.nuclei</th>\n",
       "      <th>bland.chromatin</th>\n",
       "      <th>normal.nuclei</th>\n",
       "      <th>mitoses</th>\n",
       "      <th>class</th>\n",
       "    </tr>\n",
       "  </thead>\n",
       "  <tbody>\n",
       "    <tr>\n",
       "      <th>0</th>\n",
       "      <td>b'8'</td>\n",
       "      <td>b'10'</td>\n",
       "      <td>b'10'</td>\n",
       "      <td>b'8'</td>\n",
       "      <td>b'5'</td>\n",
       "      <td>b'10'</td>\n",
       "      <td>b'7'</td>\n",
       "      <td>b'8'</td>\n",
       "      <td>b'1'</td>\n",
       "      <td>b'4'</td>\n",
       "    </tr>\n",
       "    <tr>\n",
       "      <th>1</th>\n",
       "      <td>b'8'</td>\n",
       "      <td>b'4'</td>\n",
       "      <td>b'4'</td>\n",
       "      <td>b'1'</td>\n",
       "      <td>b'2'</td>\n",
       "      <td>b'9'</td>\n",
       "      <td>b'3'</td>\n",
       "      <td>b'3'</td>\n",
       "      <td>b'1'</td>\n",
       "      <td>b'4'</td>\n",
       "    </tr>\n",
       "    <tr>\n",
       "      <th>2</th>\n",
       "      <td>b'4'</td>\n",
       "      <td>b'1'</td>\n",
       "      <td>b'1'</td>\n",
       "      <td>b'1'</td>\n",
       "      <td>b'2'</td>\n",
       "      <td>b'1'</td>\n",
       "      <td>b'3'</td>\n",
       "      <td>b'6'</td>\n",
       "      <td>b'1'</td>\n",
       "      <td>b'2'</td>\n",
       "    </tr>\n",
       "    <tr>\n",
       "      <th>3</th>\n",
       "      <td>b'1'</td>\n",
       "      <td>b'2'</td>\n",
       "      <td>b'2'</td>\n",
       "      <td>b'1'</td>\n",
       "      <td>b'2'</td>\n",
       "      <td>b'1'</td>\n",
       "      <td>b'1'</td>\n",
       "      <td>b'1'</td>\n",
       "      <td>b'1'</td>\n",
       "      <td>b'2'</td>\n",
       "    </tr>\n",
       "    <tr>\n",
       "      <th>4</th>\n",
       "      <td>b'10'</td>\n",
       "      <td>b'4'</td>\n",
       "      <td>b'4'</td>\n",
       "      <td>b'10'</td>\n",
       "      <td>b'2'</td>\n",
       "      <td>b'10'</td>\n",
       "      <td>b'5'</td>\n",
       "      <td>b'3'</td>\n",
       "      <td>b'3'</td>\n",
       "      <td>b'4'</td>\n",
       "    </tr>\n",
       "  </tbody>\n",
       "</table>\n",
       "</div>"
      ],
      "text/plain": [
       "  clump.thickness uniformity.of.cell.size uniformity.of.cell.shape  \\\n",
       "0            b'8'                   b'10'                    b'10'   \n",
       "1            b'8'                    b'4'                     b'4'   \n",
       "2            b'4'                    b'1'                     b'1'   \n",
       "3            b'1'                    b'2'                     b'2'   \n",
       "4           b'10'                    b'4'                     b'4'   \n",
       "\n",
       "  marginal.adhesion single.epithelial.cell.size bare.nuclei bland.chromatin  \\\n",
       "0              b'8'                        b'5'       b'10'            b'7'   \n",
       "1              b'1'                        b'2'        b'9'            b'3'   \n",
       "2              b'1'                        b'2'        b'1'            b'3'   \n",
       "3              b'1'                        b'2'        b'1'            b'1'   \n",
       "4             b'10'                        b'2'       b'10'            b'5'   \n",
       "\n",
       "  normal.nuclei mitoses class  \n",
       "0          b'8'    b'1'  b'4'  \n",
       "1          b'3'    b'1'  b'4'  \n",
       "2          b'6'    b'1'  b'2'  \n",
       "3          b'1'    b'1'  b'2'  \n",
       "4          b'3'    b'3'  b'4'  "
      ]
     },
     "execution_count": 18,
     "metadata": {},
     "output_type": "execute_result"
    }
   ],
   "source": [
    "data = arff.loadarff('breast cancer data.arff')\n",
    "df1 = pd.DataFrame(data[0])\n",
    "# df2 = pd.DataFrame(data[1])\n",
    "\n",
    "df1.head()\n",
    "# frames = [df1, df2]\n",
    "\n",
    "# df = pd.concat(frames)\n",
    "# df.head()"
   ]
  },
  {
   "cell_type": "code",
   "execution_count": null,
   "metadata": {},
   "outputs": [],
   "source": []
  }
 ],
 "metadata": {
  "kernelspec": {
   "display_name": "Python 3",
   "language": "python",
   "name": "python3"
  },
  "language_info": {
   "codemirror_mode": {
    "name": "ipython",
    "version": 3
   },
   "file_extension": ".py",
   "mimetype": "text/x-python",
   "name": "python",
   "nbconvert_exporter": "python",
   "pygments_lexer": "ipython3",
   "version": "3.7.3"
  }
 },
 "nbformat": 4,
 "nbformat_minor": 2
}
